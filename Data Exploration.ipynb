{
 "cells": [
  {
   "cell_type": "markdown",
   "id": "dc67b957",
   "metadata": {},
   "source": [
    "# Data Exploration"
   ]
  },
  {
   "cell_type": "code",
   "execution_count": 1,
   "id": "3364d14c",
   "metadata": {},
   "outputs": [],
   "source": [
    "from pymongo import MongoClient\n",
    "import pandas as pd\n",
    "from tqdm import tqdm\n",
    "import numpy as np\n",
    "tqdm.pandas()"
   ]
  },
  {
   "cell_type": "code",
   "execution_count": 2,
   "id": "472c3fb5",
   "metadata": {},
   "outputs": [],
   "source": [
    "myclient = MongoClient(\"mongodb://localhost:27017/\")\n",
    "db=myclient.online_retail"
   ]
  },
  {
   "cell_type": "markdown",
   "id": "2cb32e0a",
   "metadata": {},
   "source": [
    "### Loading the dataset"
   ]
  },
  {
   "cell_type": "code",
   "execution_count": 3,
   "id": "3c42e18d",
   "metadata": {},
   "outputs": [],
   "source": [
    "df = pd.read_excel('Online Retail.xlsx', engine='openpyxl')"
   ]
  },
  {
   "cell_type": "markdown",
   "id": "8f813af4",
   "metadata": {},
   "source": [
    "### Checking for duplicates"
   ]
  },
  {
   "cell_type": "code",
   "execution_count": 4,
   "id": "870912b3",
   "metadata": {},
   "outputs": [
    {
     "data": {
      "text/plain": [
       "5268"
      ]
     },
     "execution_count": 4,
     "metadata": {},
     "output_type": "execute_result"
    }
   ],
   "source": [
    "df.duplicated().sum()"
   ]
  },
  {
   "cell_type": "markdown",
   "id": "7691e080",
   "metadata": {},
   "source": [
    "Getting rid of duplicated rows"
   ]
  },
  {
   "cell_type": "code",
   "execution_count": 5,
   "id": "43c0f7af",
   "metadata": {},
   "outputs": [],
   "source": [
    "df = df.drop_duplicates()"
   ]
  },
  {
   "cell_type": "markdown",
   "id": "6060c90a",
   "metadata": {},
   "source": [
    "Checking the total number of rows"
   ]
  },
  {
   "cell_type": "code",
   "execution_count": 6,
   "id": "b6c76c89",
   "metadata": {},
   "outputs": [
    {
     "data": {
      "text/plain": [
       "InvoiceNo      536641\n",
       "StockCode      536641\n",
       "Description    535187\n",
       "Quantity       536641\n",
       "InvoiceDate    536641\n",
       "UnitPrice      536641\n",
       "CustomerID     401604\n",
       "Country        536641\n",
       "dtype: int64"
      ]
     },
     "execution_count": 6,
     "metadata": {},
     "output_type": "execute_result"
    }
   ],
   "source": [
    "df.count()"
   ]
  },
  {
   "cell_type": "markdown",
   "id": "17072f06",
   "metadata": {},
   "source": [
    "Since some of the columns contain less elements than others we can conclude the absence of data in these columns"
   ]
  },
  {
   "cell_type": "markdown",
   "id": "f3ce9f20",
   "metadata": {},
   "source": [
    "### Dealing with missing data\n",
    "There are multiple ways of dealing with missing data. Some of them include using mean or median values as a replacement. But since the columns with missing data are 'CustomerID' and 'Description' this method is not suitable for this. The other approach is to delete rows containing missing data altogether. However, since the dataset is imported in MongoDB we can delete the fields which contain missing values only when it is the case."
   ]
  },
  {
   "cell_type": "code",
   "execution_count": null,
   "id": "b97e7785",
   "metadata": {},
   "outputs": [],
   "source": [
    "def row_to_dict(self, row):\n",
    "    row_dict = dict(row)\n",
    "    if np.isnan(row_dict['CustomerID']):\n",
    "        del row_dict['CustomerID']\n",
    "    else:\n",
    "        row_dict['CustomerID'] = int(row_dict['CustomerID'])\n",
    "    if row_dict['Description'] == row_dict['Description']:\n",
    "        row_dict['Description'] = str(row_dict['Description']).upper()\n",
    "    else:\n",
    "        del row_dict['Description']\n",
    "    return row_dict"
   ]
  },
  {
   "cell_type": "code",
   "execution_count": null,
   "id": "7fb6d2de",
   "metadata": {},
   "outputs": [],
   "source": [
    "mycol = db[\"OnlineRetail\"]\n",
    "df.progress_apply(lambda x: mycol.insert_one(row_to_doc(x)), axis=1)"
   ]
  }
 ],
 "metadata": {
  "kernelspec": {
   "display_name": "Python 3",
   "language": "python",
   "name": "python3"
  },
  "language_info": {
   "codemirror_mode": {
    "name": "ipython",
    "version": 3
   },
   "file_extension": ".py",
   "mimetype": "text/x-python",
   "name": "python",
   "nbconvert_exporter": "python",
   "pygments_lexer": "ipython3",
   "version": "3.7.10"
  }
 },
 "nbformat": 4,
 "nbformat_minor": 5
}
